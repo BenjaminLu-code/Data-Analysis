{
 "cells": [
  {
   "cell_type": "markdown",
   "metadata": {},
   "source": [
    "## 1数据获取"
   ]
  },
  {
   "cell_type": "code",
   "execution_count": 2,
   "metadata": {},
   "outputs": [
    {
     "data": {
      "text/html": [
       "<div>\n",
       "<style scoped>\n",
       "    .dataframe tbody tr th:only-of-type {\n",
       "        vertical-align: middle;\n",
       "    }\n",
       "\n",
       "    .dataframe tbody tr th {\n",
       "        vertical-align: top;\n",
       "    }\n",
       "\n",
       "    .dataframe thead th {\n",
       "        text-align: right;\n",
       "    }\n",
       "</style>\n",
       "<table border=\"1\" class=\"dataframe\">\n",
       "  <thead>\n",
       "    <tr style=\"text-align: right;\">\n",
       "      <th></th>\n",
       "      <th>SeriousDlqin2yrs</th>\n",
       "      <th>RevolvingUtilizationOfUnsecuredLines</th>\n",
       "      <th>age</th>\n",
       "      <th>NumberOfTime30-59DaysPastDueNotWorse</th>\n",
       "      <th>DebtRatio</th>\n",
       "      <th>MonthlyIncome</th>\n",
       "      <th>NumberOfOpenCreditLinesAndLoans</th>\n",
       "      <th>NumberOfTimes90DaysLate</th>\n",
       "      <th>NumberRealEstateLoansOrLines</th>\n",
       "      <th>NumberOfTime60-89DaysPastDueNotWorse</th>\n",
       "      <th>NumberOfDependents</th>\n",
       "    </tr>\n",
       "  </thead>\n",
       "  <tbody>\n",
       "    <tr>\n",
       "      <th>1</th>\n",
       "      <td>1</td>\n",
       "      <td>0.766127</td>\n",
       "      <td>45</td>\n",
       "      <td>2</td>\n",
       "      <td>0.802982</td>\n",
       "      <td>9120.0</td>\n",
       "      <td>13</td>\n",
       "      <td>0</td>\n",
       "      <td>6</td>\n",
       "      <td>0</td>\n",
       "      <td>2.0</td>\n",
       "    </tr>\n",
       "    <tr>\n",
       "      <th>2</th>\n",
       "      <td>0</td>\n",
       "      <td>0.957151</td>\n",
       "      <td>40</td>\n",
       "      <td>0</td>\n",
       "      <td>0.121876</td>\n",
       "      <td>2600.0</td>\n",
       "      <td>4</td>\n",
       "      <td>0</td>\n",
       "      <td>0</td>\n",
       "      <td>0</td>\n",
       "      <td>1.0</td>\n",
       "    </tr>\n",
       "    <tr>\n",
       "      <th>3</th>\n",
       "      <td>0</td>\n",
       "      <td>0.658180</td>\n",
       "      <td>38</td>\n",
       "      <td>1</td>\n",
       "      <td>0.085113</td>\n",
       "      <td>3042.0</td>\n",
       "      <td>2</td>\n",
       "      <td>1</td>\n",
       "      <td>0</td>\n",
       "      <td>0</td>\n",
       "      <td>0.0</td>\n",
       "    </tr>\n",
       "    <tr>\n",
       "      <th>4</th>\n",
       "      <td>0</td>\n",
       "      <td>0.233810</td>\n",
       "      <td>30</td>\n",
       "      <td>0</td>\n",
       "      <td>0.036050</td>\n",
       "      <td>3300.0</td>\n",
       "      <td>5</td>\n",
       "      <td>0</td>\n",
       "      <td>0</td>\n",
       "      <td>0</td>\n",
       "      <td>0.0</td>\n",
       "    </tr>\n",
       "    <tr>\n",
       "      <th>5</th>\n",
       "      <td>0</td>\n",
       "      <td>0.907239</td>\n",
       "      <td>49</td>\n",
       "      <td>1</td>\n",
       "      <td>0.024926</td>\n",
       "      <td>63588.0</td>\n",
       "      <td>7</td>\n",
       "      <td>0</td>\n",
       "      <td>1</td>\n",
       "      <td>0</td>\n",
       "      <td>0.0</td>\n",
       "    </tr>\n",
       "  </tbody>\n",
       "</table>\n",
       "</div>"
      ],
      "text/plain": [
       "   SeriousDlqin2yrs  RevolvingUtilizationOfUnsecuredLines  age  \\\n",
       "1                 1                              0.766127   45   \n",
       "2                 0                              0.957151   40   \n",
       "3                 0                              0.658180   38   \n",
       "4                 0                              0.233810   30   \n",
       "5                 0                              0.907239   49   \n",
       "\n",
       "   NumberOfTime30-59DaysPastDueNotWorse  DebtRatio  MonthlyIncome  \\\n",
       "1                                     2   0.802982         9120.0   \n",
       "2                                     0   0.121876         2600.0   \n",
       "3                                     1   0.085113         3042.0   \n",
       "4                                     0   0.036050         3300.0   \n",
       "5                                     1   0.024926        63588.0   \n",
       "\n",
       "   NumberOfOpenCreditLinesAndLoans  NumberOfTimes90DaysLate  \\\n",
       "1                               13                        0   \n",
       "2                                4                        0   \n",
       "3                                2                        1   \n",
       "4                                5                        0   \n",
       "5                                7                        0   \n",
       "\n",
       "   NumberRealEstateLoansOrLines  NumberOfTime60-89DaysPastDueNotWorse  \\\n",
       "1                             6                                     0   \n",
       "2                             0                                     0   \n",
       "3                             0                                     0   \n",
       "4                             0                                     0   \n",
       "5                             1                                     0   \n",
       "\n",
       "   NumberOfDependents  \n",
       "1                 2.0  \n",
       "2                 1.0  \n",
       "3                 0.0  \n",
       "4                 0.0  \n",
       "5                 0.0  "
      ]
     },
     "execution_count": 2,
     "metadata": {},
     "output_type": "execute_result"
    }
   ],
   "source": [
    "import pandas as pd\n",
    "import numpy as np\n",
    "from sklearn.linear_model import LogisticRegression as LR\n",
    "\n",
    "data = pd.read_csv('cs-training.csv',index_col=0)\n",
    "data.head()"
   ]
  },
  {
   "cell_type": "code",
   "execution_count": 3,
   "metadata": {},
   "outputs": [
    {
     "data": {
      "text/plain": [
       "(150000, 11)"
      ]
     },
     "execution_count": 3,
     "metadata": {},
     "output_type": "execute_result"
    }
   ],
   "source": [
    "data.shape"
   ]
  },
  {
   "cell_type": "code",
   "execution_count": 4,
   "metadata": {},
   "outputs": [
    {
     "name": "stdout",
     "output_type": "stream",
     "text": [
      "<class 'pandas.core.frame.DataFrame'>\n",
      "Int64Index: 150000 entries, 1 to 150000\n",
      "Data columns (total 11 columns):\n",
      " #   Column                                Non-Null Count   Dtype  \n",
      "---  ------                                --------------   -----  \n",
      " 0   SeriousDlqin2yrs                      150000 non-null  int64  \n",
      " 1   RevolvingUtilizationOfUnsecuredLines  150000 non-null  float64\n",
      " 2   age                                   150000 non-null  int64  \n",
      " 3   NumberOfTime30-59DaysPastDueNotWorse  150000 non-null  int64  \n",
      " 4   DebtRatio                             150000 non-null  float64\n",
      " 5   MonthlyIncome                         120269 non-null  float64\n",
      " 6   NumberOfOpenCreditLinesAndLoans       150000 non-null  int64  \n",
      " 7   NumberOfTimes90DaysLate               150000 non-null  int64  \n",
      " 8   NumberRealEstateLoansOrLines          150000 non-null  int64  \n",
      " 9   NumberOfTime60-89DaysPastDueNotWorse  150000 non-null  int64  \n",
      " 10  NumberOfDependents                    146076 non-null  float64\n",
      "dtypes: float64(4), int64(7)\n",
      "memory usage: 13.7 MB\n"
     ]
    }
   ],
   "source": [
    "data.info()\n",
    "# 在MonthlyIncome和NumberOfDependents里有空值"
   ]
  },
  {
   "cell_type": "markdown",
   "metadata": {},
   "source": [
    "## 2数据清洗"
   ]
  },
  {
   "cell_type": "markdown",
   "metadata": {},
   "source": [
    "### 数据去重"
   ]
  },
  {
   "cell_type": "code",
   "execution_count": 5,
   "metadata": {},
   "outputs": [
    {
     "name": "stdout",
     "output_type": "stream",
     "text": [
      "<class 'pandas.core.frame.DataFrame'>\n",
      "RangeIndex: 149391 entries, 0 to 149390\n",
      "Data columns (total 11 columns):\n",
      " #   Column                                Non-Null Count   Dtype  \n",
      "---  ------                                --------------   -----  \n",
      " 0   SeriousDlqin2yrs                      149391 non-null  int64  \n",
      " 1   RevolvingUtilizationOfUnsecuredLines  149391 non-null  float64\n",
      " 2   age                                   149391 non-null  int64  \n",
      " 3   NumberOfTime30-59DaysPastDueNotWorse  149391 non-null  int64  \n",
      " 4   DebtRatio                             149391 non-null  float64\n",
      " 5   MonthlyIncome                         120170 non-null  float64\n",
      " 6   NumberOfOpenCreditLinesAndLoans       149391 non-null  int64  \n",
      " 7   NumberOfTimes90DaysLate               149391 non-null  int64  \n",
      " 8   NumberRealEstateLoansOrLines          149391 non-null  int64  \n",
      " 9   NumberOfTime60-89DaysPastDueNotWorse  149391 non-null  int64  \n",
      " 10  NumberOfDependents                    145563 non-null  float64\n",
      "dtypes: float64(4), int64(7)\n",
      "memory usage: 12.5 MB\n"
     ]
    }
   ],
   "source": [
    "data.drop_duplicates(inplace=True)\n",
    "data.index = range(data.shape[0])# 这一步是将去重后的数据index改成连续上升，不会跳\n",
    "data.info()"
   ]
  },
  {
   "cell_type": "markdown",
   "metadata": {},
   "source": [
    "### 缺失值处理"
   ]
  },
  {
   "cell_type": "markdown",
   "metadata": {},
   "source": [
    "含有缺失值的特征为MonthlyIncome和NumberOfDependents，其中后者缺失只有2.5%，这些值的填充不会显著影响样本的总体特征，可以选择直接忽略掉这部分数据，或者使用均值来填充，我们这里选择均值填充。而前者则由将近20%数据缺失，所以需要更细致的处理办法。"
   ]
  },
  {
   "cell_type": "code",
   "execution_count": 6,
   "metadata": {},
   "outputs": [
    {
     "data": {
      "text/plain": [
       "SeriousDlqin2yrs                        0.000000\n",
       "RevolvingUtilizationOfUnsecuredLines    0.000000\n",
       "age                                     0.000000\n",
       "NumberOfTime30-59DaysPastDueNotWorse    0.000000\n",
       "DebtRatio                               0.000000\n",
       "MonthlyIncome                           0.195601\n",
       "NumberOfOpenCreditLinesAndLoans         0.000000\n",
       "NumberOfTimes90DaysLate                 0.000000\n",
       "NumberRealEstateLoansOrLines            0.000000\n",
       "NumberOfTime60-89DaysPastDueNotWorse    0.000000\n",
       "NumberOfDependents                      0.025624\n",
       "dtype: float64"
      ]
     },
     "execution_count": 6,
     "metadata": {},
     "output_type": "execute_result"
    }
   ],
   "source": [
    "data.isnull().sum()/data.shape[0]"
   ]
  },
  {
   "cell_type": "code",
   "execution_count": 7,
   "metadata": {},
   "outputs": [],
   "source": [
    "data[\"NumberOfDependents\"].fillna(int(data[\"NumberOfDependents\"].mean()), inplace=True)\n",
    "# 填充NumberOfDependents列空值"
   ]
  },
  {
   "cell_type": "markdown",
   "metadata": {},
   "source": [
    "针对MonthlyIncome我们可以有这样的推断，在如果数据的缺失不是由业务人员产生的，而是由客户遗漏导致，那么我们可以认定MonthlyIncome有缺失的这些客户收入应该都属于比较低的区间，因为高收入有助于信用卡的申请可以说算是一个常识，而这些客户遗漏就说明他们知道自己的月收入不会成为信用评分的有力因素，甚至会成为一个负面因素。\n",
    "但是前面也说了，推断是基于业务人员不是数据缺失原因这一假设，所以更加合理的方法是：如果有大规模的数据异常，先去和业务人员沟通，观察异常是如何产生的，再根据异常的来源进行合理的数据处理。\n",
    "\n",
    "这里我们用随机森林回归进行缺失值的填充"
   ]
  },
  {
   "cell_type": "code",
   "execution_count": null,
   "metadata": {},
   "outputs": [],
   "source": [
    "def fill_missing_rf(X,y,to_fill):\n",
    "\n",
    "    #构建新特征矩阵和新标签\n",
    "    df = X.copy()\n",
    "    fill = df.loc[:,to_fill]\n",
    "    df = pd.concat([df.loc[:,df.columns != to_fill],pd.DataFrame(y)],axis=1)\n",
    "\n",
    "    # 找出我们的训练集和测试集\n",
    "    Ytrain = fill[fill.notnull()]\n",
    "    Ytest = fill[fill.isnull()]\n",
    "    Xtrain = df.loc[Ytrain.index,:]\n",
    "    Xtest = df.loc[Ytest.index,:]\n",
    "    # 这里其实应该是要loc，但是前面在去重的时候，重新编号index，导致index和所在位置号码是一样的，因此去出Ytrain.index后用loc或iloc没有区别\n",
    "    \n",
    "    #用随机森林回归来填补缺失值\n",
    "    from sklearn.ensemble import RandomForestRegressor as rfr\n",
    "    rfr = rfr(n_estimators=10)\n",
    "    rfr = rfr.fit(Xtrain, Ytrain)\n",
    "    Ypredict = rfr.predict(Xtest)\n",
    "    \n",
    "    return Ypredict\n",
    "\n",
    "X = data.iloc[:,1:]\n",
    "y = data[\"SeriousDlqin2yrs\"]\n",
    "\n",
    "#将参数输入函数\n",
    "y_pred = fill_missing_rf(X,y,\"MonthlyIncome\")\n",
    "\n",
    "#注意可以通过以下代码检验数据是否数量相同\n",
    "y_pred.shape ==  data.loc[data.loc[:,\"MonthlyIncome\"].isnull(),\"MonthlyIncome\"].shape\n",
    "\n",
    "#确认我们的结果合理之后，我们就可以将数据覆盖了\n",
    "data.loc[data.loc[:,\"MonthlyIncome\"].isnull(),\"MonthlyIncome\"] = y_pred\n",
    "\n",
    "#查看数据集信息\n",
    "data.info()"
   ]
  },
  {
   "cell_type": "markdown",
   "metadata": {},
   "source": [
    "### 异常值处理"
   ]
  },
  {
   "cell_type": "markdown",
   "metadata": {},
   "source": [
    "现实数据永远都会有一些异常值，首先我们要去把他们捕捉出来，然后观察他们的性质。注意，我们并不是要排除掉所有异常值，相反很多时候，异常值是我们的重点研究对象，比如说，双十一中购买量超高的品牌，或课堂上让很多学生都兴奋的课题，这些是我们要重点研究观察的。\n",
    "\n",
    "日常处理异常值，我们使用箱线图或者3σ法则来找到异常值。但在银行数据中，我们希望排除的“异常值”不是一些超高或超低的数字，而是一些不符合常理的数据：比如，收入不能为负数，但是一个超高水平的收入却是合理的，可以存在的。所以在银行业中，我们往往就使用普通的描述性统计来观察数据的异常与否与数据的分布情况。注意，这种方法只能在特征量有限的情况下进行，如果有几百个特征又无法成功降维或特征选择不管用，那还是用3σ比较好。"
   ]
  },
  {
   "cell_type": "code",
   "execution_count": null,
   "metadata": {},
   "outputs": [],
   "source": [
    "data.describe([0.01,0.1,0.25,.5,.75,.9,.99]).T"
   ]
  },
  {
   "cell_type": "markdown",
   "metadata": {},
   "source": [
    "信用评分应该是针对成年人，这里竟然出现了年龄最小值为0，这应该异常，查询可知，只有一个客户，因此直接删除"
   ]
  },
  {
   "cell_type": "code",
   "execution_count": null,
   "metadata": {},
   "outputs": [],
   "source": [
    "(data[\"age\"]==0).sum()"
   ]
  },
  {
   "cell_type": "code",
   "execution_count": null,
   "metadata": {},
   "outputs": [],
   "source": [
    "data = data[data[\"age\"] != 0]"
   ]
  },
  {
   "cell_type": "markdown",
   "metadata": {},
   "source": [
    "有三个指标看起来很奇怪： \"NumberOfTime30-59DaysPastDueNotWorse\" 、\"NumberOfTime60-89DaysPastDueNotWorse\"、 \"NumberOfTimes90DaysLate\" 这三个指标分别是“过去两年内出现35-59天逾期但是没有发展的更坏的次数”，“过去两年内出现60-89天逾期但是没 有发展的更坏的次数”，“过去两年内出现90天逾期的次数”。这三个指标，在99%的分布的时候依然是2，最大值却是 98，看起来非常奇怪。一个人在过去两年内逾期35~59天98次，一年6个60天，两年内逾期98次这是怎么算出来的？ 我们可以去咨询业务人员，请教他们这个逾期次数是如何计算的。\n",
    "\n",
    "在没有办法询问业务人员的情况下，我们自己进行推断。首先对于指标\"NumberOfTime30-59DaysPastDueNotWorse\"，两年总共730天，这一列的值最大是730/30=24,所以24以上的值应该都属于异常值，查询可得，这些值在96-98之间,共有225个。同理指标\"NumberOfTime60-89DaysPastDueNotWorse\"的值最大只能是12,12以上的值都属于异常值，这些值也在96-98之间，共有225个。\"NumberOfTimes90DaysLate\"也是一样。\n",
    "\n",
    "同时这些异常值的客户预测值有0有1，所以也排除因为客户信用非常低，所以我强行拔高所有指标，导致客户无论如何都不能获得信用卡的假设。他们应该只是纯粹的坏数据。"
   ]
  },
  {
   "cell_type": "code",
   "execution_count": null,
   "metadata": {},
   "outputs": [],
   "source": [
    "(data[\"NumberOfTime60-89DaysPastDueNotWorse\"]>12).sum()"
   ]
  },
  {
   "cell_type": "code",
   "execution_count": null,
   "metadata": {},
   "outputs": [],
   "source": [
    "(data[\"NumberOfTime30-59DaysPastDueNotWorse\"]>24).sum()"
   ]
  },
  {
   "cell_type": "code",
   "execution_count": null,
   "metadata": {},
   "outputs": [],
   "source": [
    "max(list(data.loc[data[\"NumberOfTime30-59DaysPastDueNotWorse\"]>24,  \"NumberOfTime30-59DaysPastDueNotWorse\"]))"
   ]
  },
  {
   "cell_type": "code",
   "execution_count": null,
   "metadata": {},
   "outputs": [],
   "source": [
    "data.loc[data[\"NumberOfTime30-59DaysPastDueNotWorse\"]>24,  \"SeriousDlqin2yrs\"]"
   ]
  },
  {
   "cell_type": "code",
   "execution_count": null,
   "metadata": {},
   "outputs": [],
   "source": [
    "data = data[data[\"NumberOfTime60-89DaysPastDueNotWorse\"]<=12]\n",
    "data.index = range(data.shape[0])"
   ]
  },
  {
   "cell_type": "code",
   "execution_count": null,
   "metadata": {},
   "outputs": [],
   "source": [
    "data.describe([0.01,0.1,0.25,.5,.75,.9,.99]).T"
   ]
  },
  {
   "cell_type": "code",
   "execution_count": null,
   "metadata": {},
   "outputs": [],
   "source": [
    "data.info()"
   ]
  },
  {
   "cell_type": "markdown",
   "metadata": {},
   "source": [
    "### 样本不平衡"
   ]
  },
  {
   "cell_type": "code",
   "execution_count": null,
   "metadata": {},
   "outputs": [],
   "source": [
    "# 探索标签的分布\n",
    "X = data.iloc[:,1:]\n",
    "y = data.iloc[:,0]\n",
    "\n",
    "y.value_counts()#查看每一类别值得数据量，查看样本是否均衡"
   ]
  },
  {
   "cell_type": "markdown",
   "metadata": {},
   "source": [
    "可以看出，样本严重不均衡。虽然大家都在努力防范信用风险，但实际违约的人并不多。并且，银行并不会真的一棒子打死所有会违约的人，很多人是会还钱的，只是忘记了还款日，很多人是不愿意欠人钱的，但是当时真的很困难，资金周转不过来，所以发生逾期，但一旦他有了钱，他就会把钱换上。对于银行来说，只要你最后能够把钱还上，我都愿意借钱给你，因为我借给你就有收入（利息）。所以，对于银行来说，真正想要被判别出来的其实是”恶意违约“的人，而这部分人数非常非常少，样本就会不均衡。这一直是银行业建模的一个痛点：我们永远希望捕捉少数类。逻辑回归中使用最多的是上采样方法来平衡样本。"
   ]
  },
  {
   "cell_type": "code",
   "execution_count": null,
   "metadata": {},
   "outputs": [],
   "source": [
    "from imblearn.over_sampling import SMOTE\n",
    "sm = SMOTE(random_state=42) #实例化\n",
    "X,y = sm.fit_resample(X,y)    #训练模型\n",
    "\n",
    "y.value_counts()# 将原本较少的判断为1的客户数据个数9873扩展成和0的客户数据个数一样139292"
   ]
  },
  {
   "cell_type": "code",
   "execution_count": null,
   "metadata": {},
   "outputs": [],
   "source": [
    "from sklearn.model_selection import train_test_split\n",
    "\n",
    "X = pd.DataFrame(X)\n",
    "y = pd.DataFrame(y)\n",
    "\n",
    "X_train, X_vali, Y_train, Y_vali = train_test_split(X,y,test_size=0.3,random_state=420)\n",
    "\n",
    "#训练集\n",
    "model_data = pd.concat([Y_train, X_train], axis=1)\n",
    "model_data.index = range(model_data.shape[0])\n",
    "model_data.columns = data.columns\n",
    "#验证集\n",
    "vali_data = pd.concat([Y_vali, X_vali], axis=1)\n",
    "vali_data.index = range(vali_data.shape[0])\n",
    "vali_data.columns = data.columns\n",
    "#分别存储验证集和训练集，以便于后续操作\n",
    "model_data.to_csv('./model_data.csv')#训练数据\n",
    "vali_data.to_csv('./vali_data.csv')#验证数据"
   ]
  },
  {
   "cell_type": "markdown",
   "metadata": {},
   "source": [
    "## 3特征工程"
   ]
  },
  {
   "attachments": {
    "image-2.png": {
     "image/png": "[encoded data removed]"
    },
    "image.png": {
     "image/png": "[encoded data removed]"
    }
   },
   "cell_type": "markdown",
   "metadata": {},
   "source": [
    "在前面我们已经对数据进行了清洗：数据去重、缺失值处理、异常值处理、样本不平衡处理。现在我们需要进行特征工程。\n",
    "\n",
    "而在信用卡评分领域，通常在这一步进行分箱，本质就是将连续变量离散化。首先，要分多少个箱子才合适？最开始我们并不知道，但是既然是将连续型变量离散化，想也知道箱子个数必然不能太多，最好控制在十个以下。而用来制作评分卡，最好能在4~5个为最佳。我们知道，离散化连续变量必然伴随着信息的损失，并且箱子越少，信息损失越大。为了衡量特征上的信息量以及特征对预测函数的贡献，银行业定义了概念Information value(IV)：\n",
    "![image.png](attachment:image.png)\n",
    "其中N是这个特征上箱子的个数，i代表每个箱子，good%是这个箱内的优质客户（标签为0的客户）占整个特征中所有优质客户的比例，bad%是这个箱子里的坏客户（就是那些会违约，标签为1的那些客户）占整个特征中所有坏客户的比例，而WOEi则写作：\n",
    "![image-2.png](attachment:image-2.png)\n",
    "这是我们在银行业中用来衡量违约概率的指标，中文叫做证据权重(weight of Evidence)，本质其实就是优质客户比上坏客户的比例的对数。WOE是对一个箱子来说的，WOE越大，代表了这个箱子里的优质客户越多。而IV是对整个特征来说的，IV代表的意义是我们特征上的信息量以及这个特征对模型的贡献，由下表来控制：\n",
    "<img src=\"pic/202107222357.png\" width = \"70%\" />\n",
    "可见，IV并非越大越好，我们想要找到IV的大小和箱子个数的平衡点。箱子越多，IV必然越大，因为信息损失会非常少。所以，我们会对特征进行分箱，然后计算每个特征在n个箱子数目下的WOE值，利用IV值的曲线，找出每个特征合适的分箱个数。\n",
    "\n",
    "下面的分箱策略就是，先分较多的箱子，然后每一步进行箱子的合并，找到能用较少的箱子同时得到较大的IV的临界点"
   ]
  },
  {
   "cell_type": "markdown",
   "metadata": {},
   "source": [
    "### 画出IV关于箱子个数的曲线"
   ]
  },
  {
   "cell_type": "code",
   "execution_count": null,
   "metadata": {},
   "outputs": [],
   "source": [
    "def graphforbestbin(DF, X, Y, n=5,q=20,graph=True):\n",
    "    '''\n",
    "    自动最优分箱函数，基于卡方检验的分箱\n",
    "\n",
    "    参数：\n",
    "    DF: 需要输入的数据\n",
    "    X: 需要分箱的列名\n",
    "    Y: 分箱数据对应的标签 Y 列名\n",
    "    n: 保留分箱个数\n",
    "    q: 初始分箱的个数\n",
    "    graph: 是否要画出IV图像\n",
    "\n",
    "    区间为前开后闭 (]\n",
    "\n",
    "    '''\n",
    "\n",
    "    DF = DF[[X,Y]].copy()\n",
    "    # 初始分箱\n",
    "    DF[\"qcut\"],bins = pd.qcut(DF[X], retbins=True, q=q,duplicates=\"drop\")\n",
    "    coount_y0 = DF.loc[DF[Y]==0].groupby(by=\"qcut\").count()[Y]\n",
    "    coount_y1 = DF.loc[DF[Y]==1].groupby(by=\"qcut\").count()[Y]\n",
    "    num_bins = [*zip(bins,bins[1:],coount_y0,coount_y1)]\n",
    "    # 使得每一个箱子内都有正负两种样本\n",
    "    for i in range(q):\n",
    "        if 0 in num_bins[0][2:]:\n",
    "            num_bins[0:2] = [(\n",
    "                num_bins[0][0],\n",
    "                num_bins[1][1],\n",
    "                num_bins[0][2]+num_bins[1][2],\n",
    "                num_bins[0][3]+num_bins[1][3])]\n",
    "            continue\n",
    "\n",
    "        for i in range(len(num_bins)):\n",
    "            if 0 in num_bins[i][2:]:\n",
    "                num_bins[i-1:i+1] = [(\n",
    "                    num_bins[i-1][0],\n",
    "                    num_bins[i][1],\n",
    "                    num_bins[i-1][2]+num_bins[i][2],\n",
    "                    num_bins[i-1][3]+num_bins[i][3])]\n",
    "                break\n",
    "        else:\n",
    "            break\n",
    "    # 得到每个箱子的woe\n",
    "    def get_woe(num_bins):\n",
    "        columns = [\"min\",\"max\",\"count_0\",\"count_1\"]\n",
    "        df = pd.DataFrame(num_bins,columns=columns)\n",
    "        df[\"total\"] = df.count_0 + df.count_1\n",
    "        df[\"percentage\"] = df.total / df.total.sum()\n",
    "        df[\"bad_rate\"] = df.count_1 / df.total\n",
    "        df[\"good%\"] = df.count_0/df.count_0.sum()\n",
    "        df[\"bad%\"] = df.count_1/df.count_1.sum()\n",
    "        df[\"woe\"] = np.log(df[\"good%\"] / df[\"bad%\"])\n",
    "        return df\n",
    "    # 得到某个特征在特定分箱下的IV值\n",
    "    def get_iv(df):\n",
    "        rate = df[\"good%\"] - df[\"bad%\"]\n",
    "        iv = np.sum(rate * df.woe)\n",
    "        return iv\n",
    "    # 这里的循环是为了得到IV关于箱子数的曲线，从而观察得到最佳分箱数\n",
    "    IV = []\n",
    "    axisx = []\n",
    "    while len(num_bins) > n:\n",
    "        pvs = []\n",
    "        for i in range(len(num_bins)-1):\n",
    "            x1 = num_bins[i][2:]\n",
    "            x2 = num_bins[i+1][2:]\n",
    "            pv = scipy.stats.chi2_contingency([x1,x2])[1]\n",
    "            pvs.append(pv)\n",
    "\n",
    "        i = pvs.index(max(pvs))\n",
    "        num_bins[i:i+2] = [(\n",
    "            num_bins[i][0],\n",
    "            num_bins[i+1][1],\n",
    "            num_bins[i][2]+num_bins[i+1][2],\n",
    "            num_bins[i][3]+num_bins[i+1][3])]\n",
    "\n",
    "        bins_df = pd.DataFrame(get_woe(num_bins))\n",
    "        axisx.append(len(num_bins))\n",
    "        IV.append(get_iv(bins_df))\n",
    "\n",
    "    if graph:\n",
    "        plt.figure()\n",
    "        plt.plot(axisx,IV)\n",
    "        plt.xticks(axisx)\n",
    "        plt.xlabel(\"number of box\")\n",
    "        plt.ylabel(\"IV\")\n",
    "        plt.show()\n",
    "    return bins_df"
   ]
  },
  {
   "cell_type": "code",
   "execution_count": 1,
   "metadata": {},
   "outputs": [
    {
     "name": "stdout",
     "output_type": "stream",
     "text": [
      "RevolvingUtilizationOfUnsecuredLines\n"
     ]
    },
    {
     "ename": "NameError",
     "evalue": "name 'graphforbestbin' is not defined",
     "output_type": "error",
     "traceback": [
      "\u001b[1;31m---------------------------------------------------------------------------\u001b[0m",
      "\u001b[1;31mNameError\u001b[0m                                 Traceback (most recent call last)",
      "\u001b[1;32m<ipython-input-1-b9dcfbb4c516>\u001b[0m in \u001b[0;36m<module>\u001b[1;34m\u001b[0m\n\u001b[0;32m      3\u001b[0m \u001b[1;32mfor\u001b[0m \u001b[0mi\u001b[0m \u001b[1;32min\u001b[0m \u001b[0mcolumns\u001b[0m\u001b[1;33m:\u001b[0m\u001b[1;33m\u001b[0m\u001b[1;33m\u001b[0m\u001b[0m\n\u001b[0;32m      4\u001b[0m     \u001b[0mprint\u001b[0m\u001b[1;33m(\u001b[0m\u001b[0mi\u001b[0m\u001b[1;33m)\u001b[0m\u001b[1;33m\u001b[0m\u001b[1;33m\u001b[0m\u001b[0m\n\u001b[1;32m----> 5\u001b[1;33m     \u001b[0mgraphforbestbin\u001b[0m\u001b[1;33m(\u001b[0m\u001b[0mmodel_data\u001b[0m\u001b[1;33m,\u001b[0m\u001b[0mi\u001b[0m\u001b[1;33m,\u001b[0m\u001b[1;34m\"SeriousDlqin2yrs\"\u001b[0m\u001b[1;33m,\u001b[0m\u001b[0mn\u001b[0m\u001b[1;33m=\u001b[0m\u001b[1;36m2\u001b[0m\u001b[1;33m,\u001b[0m\u001b[0mq\u001b[0m\u001b[1;33m=\u001b[0m\u001b[1;36m20\u001b[0m\u001b[1;33m)\u001b[0m\u001b[1;33m\u001b[0m\u001b[1;33m\u001b[0m\u001b[0m\n\u001b[0m",
      "\u001b[1;31mNameError\u001b[0m: name 'graphforbestbin' is not defined"
     ]
    }
   ],
   "source": [
    "columns = [\"RevolvingUtilizationOfUnsecuredLines\", \"age\", \"DebtRatio\", \"MonthlyIncome\", \"NumberOfOpenCreditLinesAndLoans\"]\n",
    "\n",
    "for i in columns:\n",
    "    print(i)\n",
    "    graphforbestbin(model_data,i,\"SeriousDlqin2yrs\",n=2,q=20)"
   ]
  },
  {
   "cell_type": "markdown",
   "metadata": {},
   "source": [
    "从我们得到的IV关于箱数的曲线来看，\"RevolvingUtilizationOfUnsecuredLines\"，\"age\"，\"DebtRatio\"，\"MonthlyIncome\"，\"NumberOfOpenCreditLinesAndLoans\"四列顺利出图，并且可以直接从图中得到最佳的分箱情况。而其它列要不就是图片空白，要不就是报错。这是因为我们最初要求初分箱为20组，但是有一些列分不成20组，比如一个家庭的成员个数不可能会在20个区间内，那我们对这些列要做的就是手动分箱"
   ]
  },
  {
   "cell_type": "markdown",
   "metadata": {},
   "source": [
    "### 将自动和手动分箱的特征分开处理"
   ]
  },
  {
   "cell_type": "code",
   "execution_count": 108,
   "metadata": {},
   "outputs": [
    {
     "data": {
      "text/plain": [
       "{'NumberOfTime30-59DaysPastDueNotWorse': [-inf, 0, 1, 2, inf],\n",
       " 'NumberOfTimes90DaysLate': [-inf, 0, 1, 2, inf],\n",
       " 'NumberRealEstateLoansOrLines': [-inf, 0, 1, 2, 4, inf],\n",
       " 'NumberOfTime60-89DaysPastDueNotWorse': [-inf, 0, 1, 2, inf],\n",
       " 'NumberOfDependents': [-inf, 0, 1, 2, inf]}"
      ]
     },
     "execution_count": 108,
     "metadata": {},
     "output_type": "execute_result"
    }
   ],
   "source": [
    "auto_col_bins = {\"RevolvingUtilizationOfUnsecuredLines\":6,\n",
    "                \"age\":5,\n",
    "                \"DebtRatio\":4,\n",
    "                \"MonthlyIncome\":3,\n",
    "                \"NumberOfOpenCreditLinesAndLoans\":5}\n",
    "\n",
    "hand_bins = {\"NumberOfTime30-59DaysPastDueNotWorse\":[0,1,2,13]\n",
    "            ,\"NumberOfTimes90DaysLate\":[0,1,2,17]\n",
    "            ,\"NumberRealEstateLoansOrLines\":[0,1,2,4,54]\n",
    "            ,\"NumberOfTime60-89DaysPastDueNotWorse\":[0,1,2,8]\n",
    "            ,\"NumberOfDependents\":[0,1,2,3]}\n",
    "\n",
    "hand_bins = {k:[-np.inf,*v[:-1],np.inf] for k,v in hand_bins.items()}\n",
    "hand_bins"
   ]
  },
  {
   "cell_type": "code",
   "execution_count": 109,
   "metadata": {},
   "outputs": [
    {
     "data": {
      "text/html": [
       "<div>\n",
       "<style scoped>\n",
       "    .dataframe tbody tr th:only-of-type {\n",
       "        vertical-align: middle;\n",
       "    }\n",
       "\n",
       "    .dataframe tbody tr th {\n",
       "        vertical-align: top;\n",
       "    }\n",
       "\n",
       "    .dataframe thead th {\n",
       "        text-align: right;\n",
       "    }\n",
       "</style>\n",
       "<table border=\"1\" class=\"dataframe\">\n",
       "  <thead>\n",
       "    <tr style=\"text-align: right;\">\n",
       "      <th></th>\n",
       "      <th>SeriousDlqin2yrs</th>\n",
       "      <th>RevolvingUtilizationOfUnsecuredLines</th>\n",
       "      <th>age</th>\n",
       "      <th>NumberOfTime30-59DaysPastDueNotWorse</th>\n",
       "      <th>DebtRatio</th>\n",
       "      <th>MonthlyIncome</th>\n",
       "      <th>NumberOfOpenCreditLinesAndLoans</th>\n",
       "      <th>NumberOfTimes90DaysLate</th>\n",
       "      <th>NumberRealEstateLoansOrLines</th>\n",
       "      <th>NumberOfTime60-89DaysPastDueNotWorse</th>\n",
       "      <th>NumberOfDependents</th>\n",
       "    </tr>\n",
       "  </thead>\n",
       "  <tbody>\n",
       "    <tr>\n",
       "      <th>0</th>\n",
       "      <td>0</td>\n",
       "      <td>0.015404</td>\n",
       "      <td>53</td>\n",
       "      <td>0</td>\n",
       "      <td>0.121802</td>\n",
       "      <td>4728.0</td>\n",
       "      <td>5</td>\n",
       "      <td>0</td>\n",
       "      <td>0</td>\n",
       "      <td>0</td>\n",
       "      <td>0.000000</td>\n",
       "    </tr>\n",
       "    <tr>\n",
       "      <th>1</th>\n",
       "      <td>0</td>\n",
       "      <td>0.168311</td>\n",
       "      <td>63</td>\n",
       "      <td>0</td>\n",
       "      <td>0.141964</td>\n",
       "      <td>1119.0</td>\n",
       "      <td>5</td>\n",
       "      <td>0</td>\n",
       "      <td>0</td>\n",
       "      <td>0</td>\n",
       "      <td>0.000000</td>\n",
       "    </tr>\n",
       "    <tr>\n",
       "      <th>2</th>\n",
       "      <td>1</td>\n",
       "      <td>1.063570</td>\n",
       "      <td>39</td>\n",
       "      <td>1</td>\n",
       "      <td>0.417663</td>\n",
       "      <td>3500.0</td>\n",
       "      <td>5</td>\n",
       "      <td>1</td>\n",
       "      <td>0</td>\n",
       "      <td>2</td>\n",
       "      <td>3.716057</td>\n",
       "    </tr>\n",
       "    <tr>\n",
       "      <th>3</th>\n",
       "      <td>0</td>\n",
       "      <td>0.088684</td>\n",
       "      <td>73</td>\n",
       "      <td>0</td>\n",
       "      <td>0.522822</td>\n",
       "      <td>5301.0</td>\n",
       "      <td>11</td>\n",
       "      <td>0</td>\n",
       "      <td>2</td>\n",
       "      <td>0</td>\n",
       "      <td>0.000000</td>\n",
       "    </tr>\n",
       "    <tr>\n",
       "      <th>4</th>\n",
       "      <td>1</td>\n",
       "      <td>0.622999</td>\n",
       "      <td>53</td>\n",
       "      <td>0</td>\n",
       "      <td>0.423650</td>\n",
       "      <td>13000.0</td>\n",
       "      <td>9</td>\n",
       "      <td>0</td>\n",
       "      <td>2</td>\n",
       "      <td>0</td>\n",
       "      <td>0.181999</td>\n",
       "    </tr>\n",
       "  </tbody>\n",
       "</table>\n",
       "</div>"
      ],
      "text/plain": [
       "   SeriousDlqin2yrs  RevolvingUtilizationOfUnsecuredLines  age  \\\n",
       "0                 0                              0.015404   53   \n",
       "1                 0                              0.168311   63   \n",
       "2                 1                              1.063570   39   \n",
       "3                 0                              0.088684   73   \n",
       "4                 1                              0.622999   53   \n",
       "\n",
       "   NumberOfTime30-59DaysPastDueNotWorse  DebtRatio  MonthlyIncome  \\\n",
       "0                                     0   0.121802         4728.0   \n",
       "1                                     0   0.141964         1119.0   \n",
       "2                                     1   0.417663         3500.0   \n",
       "3                                     0   0.522822         5301.0   \n",
       "4                                     0   0.423650        13000.0   \n",
       "\n",
       "   NumberOfOpenCreditLinesAndLoans  NumberOfTimes90DaysLate  \\\n",
       "0                                5                        0   \n",
       "1                                5                        0   \n",
       "2                                5                        1   \n",
       "3                               11                        0   \n",
       "4                                9                        0   \n",
       "\n",
       "   NumberRealEstateLoansOrLines  NumberOfTime60-89DaysPastDueNotWorse  \\\n",
       "0                             0                                     0   \n",
       "1                             0                                     0   \n",
       "2                             0                                     2   \n",
       "3                             2                                     0   \n",
       "4                             2                                     0   \n",
       "\n",
       "   NumberOfDependents  \n",
       "0            0.000000  \n",
       "1            0.000000  \n",
       "2            3.716057  \n",
       "3            0.000000  \n",
       "4            0.181999  "
      ]
     },
     "execution_count": 109,
     "metadata": {},
     "output_type": "execute_result"
    }
   ],
   "source": [
    "model_data.head()"
   ]
  },
  {
   "cell_type": "markdown",
   "metadata": {},
   "source": [
    "这一步，得到的是字典，键是列名，值是这一列分箱的边界值组成的列表"
   ]
  },
  {
   "cell_type": "code",
   "execution_count": 110,
   "metadata": {},
   "outputs": [
    {
     "data": {
      "text/plain": [
       "{'RevolvingUtilizationOfUnsecuredLines': [-inf,\n",
       "  0.09871137556194795,\n",
       "  0.2974200625344722,\n",
       "  0.6399920226000002,\n",
       "  0.9833991531171863,\n",
       "  0.9999998999999999,\n",
       "  inf],\n",
       " 'age': [-inf, 36.0, 54.0, 61.0, 74.0, inf],\n",
       " 'DebtRatio': [-inf,\n",
       "  0.017293645490687796,\n",
       "  0.40179070807252015,\n",
       "  1.4774612196395083,\n",
       "  inf],\n",
       " 'MonthlyIncome': [-inf, 0.08928015916349726, 5594.0, inf],\n",
       " 'NumberOfOpenCreditLinesAndLoans': [-inf, 1.0, 3.0, 5.0, 17.0, inf],\n",
       " 'NumberOfTime30-59DaysPastDueNotWorse': [-inf, 0, 1, 2, inf],\n",
       " 'NumberOfTimes90DaysLate': [-inf, 0, 1, 2, inf],\n",
       " 'NumberRealEstateLoansOrLines': [-inf, 0, 1, 2, 4, inf],\n",
       " 'NumberOfTime60-89DaysPastDueNotWorse': [-inf, 0, 1, 2, inf],\n",
       " 'NumberOfDependents': [-inf, 0, 1, 2, inf]}"
      ]
     },
     "execution_count": 110,
     "metadata": {},
     "output_type": "execute_result"
    }
   ],
   "source": [
    "bins_of_col = {}\n",
    "for col in auto_col_bins:\n",
    "    bins_df = graphforbestbin(model_data,col\n",
    "                             ,\"SeriousDlqin2yrs\"\n",
    "                             ,n=auto_col_bins[col]\n",
    "                             #使用字典的性质来取出每个特征所对应的箱的数量\n",
    "                             ,q=20\n",
    "                             ,graph=False)\n",
    "    bins_list = sorted(set(bins_df[\"min\"]).union(bins_df[\"max\"]))\n",
    "    #保证区间覆盖使用 np.inf 替换最大值 -np.inf 替换最小值\n",
    "    bins_list[0],bins_list[-1] = -np.inf,np.inf\n",
    "    bins_of_col[col] = bins_list\n",
    "bins_of_col.update(hand_bins)\n",
    "bins_of_col"
   ]
  },
  {
   "cell_type": "markdown",
   "metadata": {},
   "source": [
    "### 得到每一个样本每一个特征的woe取值"
   ]
  },
  {
   "cell_type": "code",
   "execution_count": 111,
   "metadata": {},
   "outputs": [
    {
     "data": {
      "text/html": [
       "<div>\n",
       "<style scoped>\n",
       "    .dataframe tbody tr th:only-of-type {\n",
       "        vertical-align: middle;\n",
       "    }\n",
       "\n",
       "    .dataframe tbody tr th {\n",
       "        vertical-align: top;\n",
       "    }\n",
       "\n",
       "    .dataframe thead th {\n",
       "        text-align: right;\n",
       "    }\n",
       "</style>\n",
       "<table border=\"1\" class=\"dataframe\">\n",
       "  <thead>\n",
       "    <tr style=\"text-align: right;\">\n",
       "      <th></th>\n",
       "      <th>age</th>\n",
       "      <th>RevolvingUtilizationOfUnsecuredLines</th>\n",
       "      <th>DebtRatio</th>\n",
       "      <th>MonthlyIncome</th>\n",
       "      <th>NumberOfOpenCreditLinesAndLoans</th>\n",
       "      <th>NumberOfTime30-59DaysPastDueNotWorse</th>\n",
       "      <th>NumberOfTimes90DaysLate</th>\n",
       "      <th>NumberRealEstateLoansOrLines</th>\n",
       "      <th>NumberOfTime60-89DaysPastDueNotWorse</th>\n",
       "      <th>NumberOfDependents</th>\n",
       "      <th>SeriousDlqin2yrs</th>\n",
       "    </tr>\n",
       "  </thead>\n",
       "  <tbody>\n",
       "    <tr>\n",
       "      <th>0</th>\n",
       "      <td>-0.277243</td>\n",
       "      <td>2.190020</td>\n",
       "      <td>0.037901</td>\n",
       "      <td>-0.206775</td>\n",
       "      <td>-0.051543</td>\n",
       "      <td>0.351798</td>\n",
       "      <td>0.235740</td>\n",
       "      <td>-0.394219</td>\n",
       "      <td>0.124222</td>\n",
       "      <td>0.624944</td>\n",
       "      <td>0</td>\n",
       "    </tr>\n",
       "    <tr>\n",
       "      <th>1</th>\n",
       "      <td>1.002483</td>\n",
       "      <td>0.670193</td>\n",
       "      <td>0.037901</td>\n",
       "      <td>-0.206775</td>\n",
       "      <td>-0.051543</td>\n",
       "      <td>0.351798</td>\n",
       "      <td>0.235740</td>\n",
       "      <td>-0.394219</td>\n",
       "      <td>0.124222</td>\n",
       "      <td>0.624944</td>\n",
       "      <td>0</td>\n",
       "    </tr>\n",
       "    <tr>\n",
       "      <th>2</th>\n",
       "      <td>-0.277243</td>\n",
       "      <td>-2.037550</td>\n",
       "      <td>-0.388532</td>\n",
       "      <td>-0.206775</td>\n",
       "      <td>-0.051543</td>\n",
       "      <td>-0.870544</td>\n",
       "      <td>-1.755825</td>\n",
       "      <td>-0.394219</td>\n",
       "      <td>-1.769915</td>\n",
       "      <td>-0.475474</td>\n",
       "      <td>1</td>\n",
       "    </tr>\n",
       "    <tr>\n",
       "      <th>3</th>\n",
       "      <td>1.002483</td>\n",
       "      <td>2.190020</td>\n",
       "      <td>-0.388532</td>\n",
       "      <td>-0.206775</td>\n",
       "      <td>0.124399</td>\n",
       "      <td>0.351798</td>\n",
       "      <td>0.235740</td>\n",
       "      <td>0.620008</td>\n",
       "      <td>0.124222</td>\n",
       "      <td>0.624944</td>\n",
       "      <td>0</td>\n",
       "    </tr>\n",
       "    <tr>\n",
       "      <th>4</th>\n",
       "      <td>-0.277243</td>\n",
       "      <td>-0.386469</td>\n",
       "      <td>-0.388532</td>\n",
       "      <td>0.232300</td>\n",
       "      <td>0.124399</td>\n",
       "      <td>0.351798</td>\n",
       "      <td>0.235740</td>\n",
       "      <td>0.620008</td>\n",
       "      <td>0.124222</td>\n",
       "      <td>-0.580814</td>\n",
       "      <td>1</td>\n",
       "    </tr>\n",
       "  </tbody>\n",
       "</table>\n",
       "</div>"
      ],
      "text/plain": [
       "        age RevolvingUtilizationOfUnsecuredLines DebtRatio MonthlyIncome  \\\n",
       "0 -0.277243                             2.190020  0.037901     -0.206775   \n",
       "1  1.002483                             0.670193  0.037901     -0.206775   \n",
       "2 -0.277243                            -2.037550 -0.388532     -0.206775   \n",
       "3  1.002483                             2.190020 -0.388532     -0.206775   \n",
       "4 -0.277243                            -0.386469 -0.388532      0.232300   \n",
       "\n",
       "  NumberOfOpenCreditLinesAndLoans NumberOfTime30-59DaysPastDueNotWorse  \\\n",
       "0                       -0.051543                             0.351798   \n",
       "1                       -0.051543                             0.351798   \n",
       "2                       -0.051543                            -0.870544   \n",
       "3                        0.124399                             0.351798   \n",
       "4                        0.124399                             0.351798   \n",
       "\n",
       "  NumberOfTimes90DaysLate NumberRealEstateLoansOrLines  \\\n",
       "0                0.235740                    -0.394219   \n",
       "1                0.235740                    -0.394219   \n",
       "2               -1.755825                    -0.394219   \n",
       "3                0.235740                     0.620008   \n",
       "4                0.235740                     0.620008   \n",
       "\n",
       "  NumberOfTime60-89DaysPastDueNotWorse NumberOfDependents  SeriousDlqin2yrs  \n",
       "0                             0.124222           0.624944                 0  \n",
       "1                             0.124222           0.624944                 0  \n",
       "2                            -1.769915          -0.475474                 1  \n",
       "3                             0.124222           0.624944                 0  \n",
       "4                             0.124222          -0.580814                 1  "
      ]
     },
     "execution_count": 111,
     "metadata": {},
     "output_type": "execute_result"
    }
   ],
   "source": [
    "def get_woe(df,col,y,bins):\n",
    "    df = df[[col,y]].copy()\n",
    "    df[\"cut\"] = pd.cut(df[col],bins)\n",
    "    bins_df = df.groupby(\"cut\")[y].value_counts().unstack()\n",
    "    woe = bins_df[\"woe\"] = np.log((bins_df[0]/bins_df[0].sum())/(bins_df[1]/bins_df[1].sum()))\n",
    "    return woe\n",
    "\n",
    "\n",
    "woeall = {}\n",
    "for col in bins_of_col:\n",
    "    woeall[col] = get_woe(model_data,col,\"SeriousDlqin2yrs\",bins_of_col[col])\n",
    "\n",
    "model_woe = pd.DataFrame(index=model_data.index)\n",
    "model_woe[\"age\"] = pd.cut(model_data[\"age\"],bins_of_col[\"age\"]).map(woeall[\"age\"])\n",
    "# 首先，pd.cut(model_data[\"age\"],bins_of_col[\"age\"])得到的是，age这一列数据，根据已有的区间进行划分，每行数据划分进了哪个区间\n",
    "# 而woeall[\"age\"]则是一个区间的woe是多少，map函数则是用这个woe值替代每一行数据对应的区间\n",
    "\n",
    "for col in bins_of_col:\n",
    "    model_woe[col] = pd.cut(model_data[col],bins_of_col[col]).map(woeall[col])\n",
    "\n",
    "model_woe[\"SeriousDlqin2yrs\"] = model_data[\"SeriousDlqin2yrs\"]\n",
    "model_woe.head()"
   ]
  },
  {
   "cell_type": "markdown",
   "metadata": {},
   "source": [
    "### 将测试集的样本初始数据也用训练集算出的woe替代"
   ]
  },
  {
   "cell_type": "code",
   "execution_count": 112,
   "metadata": {},
   "outputs": [],
   "source": [
    "vali_woe = pd.DataFrame(index=vali_data.index)\n",
    "\n",
    "for col in bins_of_col:\n",
    "    vali_woe[col] = pd.cut(vali_data[col],bins_of_col[col]).map(woeall[col])\n",
    "\n",
    "vali_woe[\"SeriousDlqin2yrs\"] = vali_data[\"SeriousDlqin2yrs\"]"
   ]
  },
  {
   "cell_type": "markdown",
   "metadata": {},
   "source": [
    "## 4训练逻辑回归模型"
   ]
  },
  {
   "cell_type": "code",
   "execution_count": 113,
   "metadata": {},
   "outputs": [
    {
     "data": {
      "text/plain": [
       "0.7733918828371782"
      ]
     },
     "execution_count": 113,
     "metadata": {},
     "output_type": "execute_result"
    }
   ],
   "source": [
    "vali_X = vali_woe.iloc[:,:-1]\n",
    "vali_y = vali_woe.iloc[:,-1]\n",
    "X = model_woe.iloc[:,:-1]\n",
    "y = model_woe.iloc[:,-1]\n",
    "\n",
    "from sklearn.linear_model import LogisticRegression as LR\n",
    "\n",
    "lr = LR().fit(X,y)\n",
    "lr.score(vali_X,vali_y)\n",
    "# 划分的每个区间的离散化的量时是woe,为什么？"
   ]
  },
  {
   "cell_type": "code",
   "execution_count": 114,
   "metadata": {},
   "outputs": [
    {
     "data": {
      "image/png": "[encoded data removed]",
      "text/plain": [
       "<Figure size 432x288 with 1 Axes>"
      ]
     },
     "metadata": {
      "needs_background": "light"
     },
     "output_type": "display_data"
    },
    {
     "name": "stderr",
     "output_type": "stream",
     "text": [
      "D:\\anaconda\\lib\\site-packages\\sklearn\\svm\\_base.py:985: ConvergenceWarning: Liblinear failed to converge, increase the number of iterations.\n",
      "  warnings.warn(\"Liblinear failed to converge, increase \"\n"
     ]
    },
    {
     "data": {
      "image/png": "[encoded data removed]",
      "text/plain": [
       "<Figure size 432x288 with 1 Axes>"
      ]
     },
     "metadata": {
      "needs_background": "light"
     },
     "output_type": "display_data"
    }
   ],
   "source": [
    "c_1 = np.linspace(0.01,1,20)\n",
    "c_2 = np.linspace(0.01,0.2,20)\n",
    "\n",
    "score = []\n",
    "for i in c_1: \n",
    "    lr = LR(solver='liblinear',C=i).fit(X,y)\n",
    "    # 参数C是正则化力度\n",
    "    score.append(lr.score(vali_X,vali_y))\n",
    "plt.figure()\n",
    "plt.plot(c_1,score)\n",
    "plt.show()\n",
    "\n",
    "lr.n_iter_\n",
    "\n",
    "score = []\n",
    "for i in [3,6,7,7,8,9]: \n",
    "    lr = LR(solver='liblinear',C=0.025,max_iter=i).fit(X,y)\n",
    "    score.append(lr.score(vali_X,vali_y))\n",
    "plt.figure()\n",
    "plt.plot([3,6,7,7,8,9],score)\n",
    "plt.show()"
   ]
  },
  {
   "cell_type": "code",
   "execution_count": 115,
   "metadata": {},
   "outputs": [
    {
     "data": {
      "text/plain": [
       "<AxesSubplot:title={'center':'ROC Curves'}, xlabel='False Positive Rate', ylabel='True Positive Rate'>"
      ]
     },
     "execution_count": 115,
     "metadata": {},
     "output_type": "execute_result"
    },
    {
     "data": {
      "image/png": "[encoded data removed]",
      "text/plain": [
       "<Figure size 432x432 with 1 Axes>"
      ]
     },
     "metadata": {
      "needs_background": "light"
     },
     "output_type": "display_data"
    }
   ],
   "source": [
    "import scikitplot as skplt\n",
    "\n",
    "vali_proba_df = pd.DataFrame(lr.predict_proba(vali_X))\n",
    "\n",
    "skplt.metrics.plot_roc(vali_y, vali_proba_df,\n",
    "                        plot_micro=False,figsize=(6,6),\n",
    "                        plot_macro=False)\n"
   ]
  },
  {
   "cell_type": "markdown",
   "metadata": {},
   "source": [
    "## 5算出评分卡"
   ]
  },
  {
   "cell_type": "code",
   "execution_count": 116,
   "metadata": {},
   "outputs": [],
   "source": [
    "B,A = 28.85390081777927, 521.8621880878296"
   ]
  },
  {
   "cell_type": "code",
   "execution_count": 117,
   "metadata": {},
   "outputs": [
    {
     "data": {
      "text/plain": [
       "array([521.99374367])"
      ]
     },
     "execution_count": 117,
     "metadata": {},
     "output_type": "execute_result"
    }
   ],
   "source": [
    "base_score = A - B*lr.intercept_  \n",
    "base_score"
   ]
  },
  {
   "cell_type": "code",
   "execution_count": 118,
   "metadata": {},
   "outputs": [
    {
     "data": {
      "text/plain": [
       "cut\n",
       "(-inf, 36.0]   -11.302771\n",
       "(36.0, 54.0]    -5.985714\n",
       "(54.0, 61.0]     5.305317\n",
       "(61.0, 74.0]    21.643729\n",
       "(74.0, inf]     37.168375\n",
       "dtype: float64"
      ]
     },
     "execution_count": 118,
     "metadata": {},
     "output_type": "execute_result"
    }
   ],
   "source": [
    "score_age = woeall[\"age\"] * (-B*lr.coef_[0][1])  #lr.coef_：每一个特征建模之后得出的系数\n",
    "score_age "
   ]
  },
  {
   "cell_type": "code",
   "execution_count": 120,
   "metadata": {},
   "outputs": [],
   "source": [
    "file = \"./ScoreData.csv\"\n",
    "with open(file,\"w\") as fdata:\n",
    "    fdata.write(\"base_score,{}\\n\".format(base_score))\n",
    "for i,col in enumerate(X.columns):\n",
    "    score = woeall[col] * (-B*lr.coef_[0][i])\n",
    "    score.name = \"Score\"\n",
    "    score.index.name = col\n",
    "    score.to_csv(file,header=True,mode=\"a\")"
   ]
  },
  {
   "cell_type": "code",
   "execution_count": null,
   "metadata": {},
   "outputs": [],
   "source": []
  }
 ],
 "metadata": {
  "kernelspec": {
   "display_name": "Python 3",
   "language": "python",
   "name": "python3"
  },
  "language_info": {
   "codemirror_mode": {
    "name": "ipython",
    "version": 3
   },
   "file_extension": ".py",
   "mimetype": "text/x-python",
   "name": "python",
   "nbconvert_exporter": "python",
   "pygments_lexer": "ipython3",
   "version": "3.8.5"
  }
 },
 "nbformat": 4,
 "nbformat_minor": 4
}
